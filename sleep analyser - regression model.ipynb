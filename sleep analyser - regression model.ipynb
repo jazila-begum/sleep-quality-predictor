{
 "cells": [
  {
   "cell_type": "code",
   "execution_count": 3,
   "id": "2a2466df",
   "metadata": {},
   "outputs": [],
   "source": [
    "# Import necessary libraries\n",
    "import pandas as pd\n",
    "import numpy as np\n",
    "from sklearn.model_selection import train_test_split\n",
    "from sklearn.ensemble import RandomForestRegressor, StackingRegressor\n",
    "from sklearn.neural_network import MLPRegressor\n",
    "from sklearn.preprocessing import OneHotEncoder, StandardScaler\n",
    "from sklearn.compose import ColumnTransformer\n",
    "from sklearn.metrics import mean_squared_error, r2_score\n",
    "import optuna\n",
    "from optuna.samplers import TPESampler"
   ]
  },
  {
   "cell_type": "code",
   "execution_count": 4,
   "id": "904d95f9",
   "metadata": {},
   "outputs": [],
   "source": [
    "# Load dataset\n",
    "df = pd.read_excel(r\"C:\\Users\\jazil\\OneDrive\\pep-ds\\sleep-proj\\Balanced_Sleep_Quality_Data.xlsx\")\n",
    "\n",
    "# Prepare features and target\n",
    "X = df.drop(columns=['Person ID', 'Quality of Sleep'])\n",
    "y = df['Quality of Sleep']\n",
    "\n",
    "# Identify categorical and numerical columns\n",
    "categorical_cols = X.select_dtypes(include=['object', 'category']).columns.tolist()\n",
    "numerical_cols = X.select_dtypes(include=['int64', 'float64']).columns.tolist()\n",
    "\n",
    "# Preprocess data upfront: encode categorical and scale numerical features\n",
    "preprocessor = ColumnTransformer(\n",
    "    transformers=[\n",
    "        ('cat', OneHotEncoder(handle_unknown='ignore', sparse_output=False), categorical_cols),\n",
    "        ('num', StandardScaler(), numerical_cols)\n",
    "    ],\n",
    "    remainder='passthrough'\n",
    ")"
   ]
  },
  {
   "cell_type": "code",
   "execution_count": 6,
   "id": "23aa11a8",
   "metadata": {},
   "outputs": [],
   "source": [
    "# Fit and transform the entire dataset once\n",
    "X_processed = preprocessor.fit_transform(X)\n",
    "\n",
    "# Split data into train and test sets\n",
    "X_train, X_test, y_train, y_test = train_test_split(X_processed, y, test_size=0.2, random_state=42)\n",
    "\n",
    "# Define the Optuna objective function for hyperparameter tuning\n",
    "def objective(trial):\n",
    "    # Suggest hyperparameters for Random Forest\n",
    "    rf_n_estimators = trial.suggest_int('rf_n_estimators', 100, 300)\n",
    "    rf_max_depth = trial.suggest_int('rf_max_depth', 5, 15)\n",
    "\n",
    "    # Suggest hyperparameters for Neural Network\n",
    "    nn_units1 = trial.suggest_int('nn_units1', 50, 200)\n",
    "    nn_units2 = trial.suggest_int('nn_units2', 25, 100)\n",
    "    nn_alpha = trial.suggest_float('nn_alpha', 1e-5, 1e-3, log=True)\n",
    "\n",
    "    # Define base learners\n",
    "    rf_model = RandomForestRegressor(\n",
    "        n_estimators=rf_n_estimators,\n",
    "        max_depth=rf_max_depth,\n",
    "        random_state=42,\n",
    "        n_jobs=-1\n",
    "    )\n",
    "\n",
    "    nn_model = MLPRegressor(\n",
    "        hidden_layer_sizes=(nn_units1, nn_units2),\n",
    "        activation='relu',\n",
    "        solver='adam',\n",
    "        random_state=42,\n",
    "        max_iter=500,\n",
    "        alpha=nn_alpha,\n",
    "        early_stopping=True\n",
    "    )\n",
    "     # Define meta-learner\n",
    "    meta_model = RandomForestRegressor(random_state=42, n_jobs=-1)\n",
    "    stacking_regressor = StackingRegressor(\n",
    "        estimators=[\n",
    "            ('rf', rf_model),\n",
    "            ('nn', nn_model),\n",
    "        ],\n",
    "        final_estimator=meta_model,\n",
    "        cv=5,\n",
    "        passthrough=False\n",
    "    )\n",
    "\n",
    "    # Train model\n",
    "    stacking_regressor.fit(X_train, y_train)\n",
    "\n",
    "    # Predict and evaluate\n",
    "    y_pred = stacking_regressor.predict(X_test)\n",
    "    return r2_score(y_test, y_pred)"
   ]
  },
  {
   "cell_type": "code",
   "execution_count": 7,
   "id": "2bdc9ef3",
   "metadata": {},
   "outputs": [
    {
     "name": "stderr",
     "output_type": "stream",
     "text": [
      "[I 2025-06-09 16:00:53,643] A new study created in memory with name: no-name-90d3e2f4-8fc5-4a08-bac5-0477d83f14f1\n",
      "[I 2025-06-09 16:01:04,455] Trial 0 finished with value: 0.8288140343239875 and parameters: {'rf_n_estimators': 175, 'rf_max_depth': 15, 'nn_units1': 160, 'nn_units2': 70, 'nn_alpha': 2.0513382630874486e-05}. Best is trial 0 with value: 0.8288140343239875.\n",
      "[I 2025-06-09 16:01:14,510] Trial 1 finished with value: 0.8704909379546529 and parameters: {'rf_n_estimators': 131, 'rf_max_depth': 5, 'nn_units1': 180, 'nn_units2': 70, 'nn_alpha': 0.0002607024758370766}. Best is trial 1 with value: 0.8704909379546529.\n",
      "[I 2025-06-09 16:01:24,991] Trial 2 finished with value: 0.8759915953609922 and parameters: {'rf_n_estimators': 104, 'rf_max_depth': 15, 'nn_units1': 175, 'nn_units2': 41, 'nn_alpha': 2.3102018878452926e-05}. Best is trial 2 with value: 0.8759915953609922.\n",
      "[I 2025-06-09 16:01:32,608] Trial 3 finished with value: 0.8815891880052097 and parameters: {'rf_n_estimators': 136, 'rf_max_depth': 8, 'nn_units1': 129, 'nn_units2': 57, 'nn_alpha': 3.8234752246751835e-05}. Best is trial 3 with value: 0.8815891880052097.\n",
      "[I 2025-06-09 16:01:42,246] Trial 4 finished with value: 0.8199391614996826 and parameters: {'rf_n_estimators': 222, 'rf_max_depth': 6, 'nn_units1': 94, 'nn_units2': 52, 'nn_alpha': 8.168455894760161e-05}. Best is trial 3 with value: 0.8815891880052097.\n",
      "[I 2025-06-09 16:01:56,869] Trial 5 finished with value: 0.8917248262585115 and parameters: {'rf_n_estimators': 257, 'rf_max_depth': 7, 'nn_units1': 127, 'nn_units2': 70, 'nn_alpha': 1.2385137298860926e-05}. Best is trial 5 with value: 0.8917248262585115.\n",
      "[I 2025-06-09 16:02:07,955] Trial 6 finished with value: 0.8645987986991053 and parameters: {'rf_n_estimators': 222, 'rf_max_depth': 6, 'nn_units1': 59, 'nn_units2': 97, 'nn_alpha': 0.0008536189862866829}. Best is trial 5 with value: 0.8917248262585115.\n",
      "[I 2025-06-09 16:02:19,231] Trial 7 finished with value: 0.8655607670181469 and parameters: {'rf_n_estimators': 262, 'rf_max_depth': 8, 'nn_units1': 64, 'nn_units2': 77, 'nn_alpha': 7.591104805282687e-05}. Best is trial 5 with value: 0.8917248262585115.\n",
      "[I 2025-06-09 16:02:26,006] Trial 8 finished with value: 0.8327590848312244 and parameters: {'rf_n_estimators': 124, 'rf_max_depth': 10, 'nn_units1': 55, 'nn_units2': 94, 'nn_alpha': 3.292759134423613e-05}. Best is trial 5 with value: 0.8917248262585115.\n",
      "[I 2025-06-09 16:02:36,376] Trial 9 finished with value: 0.8615511861674163 and parameters: {'rf_n_estimators': 233, 'rf_max_depth': 8, 'nn_units1': 128, 'nn_units2': 66, 'nn_alpha': 2.3426581058204037e-05}. Best is trial 5 with value: 0.8917248262585115.\n",
      "[I 2025-06-09 16:02:46,595] Trial 10 finished with value: 0.9031375481288276 and parameters: {'rf_n_estimators': 295, 'rf_max_depth': 12, 'nn_units1': 98, 'nn_units2': 26, 'nn_alpha': 1.0691211811484811e-05}. Best is trial 10 with value: 0.9031375481288276.\n",
      "[I 2025-06-09 16:02:56,420] Trial 11 finished with value: 0.8856364634052252 and parameters: {'rf_n_estimators': 287, 'rf_max_depth': 12, 'nn_units1': 99, 'nn_units2': 31, 'nn_alpha': 1.0173098453440401e-05}. Best is trial 10 with value: 0.9031375481288276.\n",
      "[I 2025-06-09 16:03:04,003] Trial 12 finished with value: 0.8838745586808241 and parameters: {'rf_n_estimators': 300, 'rf_max_depth': 12, 'nn_units1': 98, 'nn_units2': 28, 'nn_alpha': 1.0814159550424566e-05}. Best is trial 10 with value: 0.9031375481288276.\n",
      "[I 2025-06-09 16:03:14,579] Trial 13 finished with value: 0.8768628200311619 and parameters: {'rf_n_estimators': 267, 'rf_max_depth': 12, 'nn_units1': 148, 'nn_units2': 84, 'nn_alpha': 0.00019575500799074534}. Best is trial 10 with value: 0.9031375481288276.\n",
      "[I 2025-06-09 16:03:22,269] Trial 14 finished with value: 0.8647545398164794 and parameters: {'rf_n_estimators': 259, 'rf_max_depth': 10, 'nn_units1': 112, 'nn_units2': 47, 'nn_alpha': 1.0715330101892688e-05}. Best is trial 10 with value: 0.9031375481288276.\n",
      "[I 2025-06-09 16:03:32,190] Trial 15 finished with value: 0.8609915598487992 and parameters: {'rf_n_estimators': 184, 'rf_max_depth': 13, 'nn_units1': 200, 'nn_units2': 39, 'nn_alpha': 4.303296098673269e-05}. Best is trial 10 with value: 0.9031375481288276.\n",
      "[I 2025-06-09 16:03:41,855] Trial 16 finished with value: 0.8776196056613895 and parameters: {'rf_n_estimators': 279, 'rf_max_depth': 9, 'nn_units1': 79, 'nn_units2': 81, 'nn_alpha': 1.609990408498778e-05}. Best is trial 10 with value: 0.9031375481288276.\n",
      "[I 2025-06-09 16:03:51,105] Trial 17 finished with value: 0.8518338440502374 and parameters: {'rf_n_estimators': 242, 'rf_max_depth': 13, 'nn_units1': 138, 'nn_units2': 59, 'nn_alpha': 0.00022579491669713815}. Best is trial 10 with value: 0.9031375481288276.\n",
      "[I 2025-06-09 16:04:01,858] Trial 18 finished with value: 0.868880467041098 and parameters: {'rf_n_estimators': 300, 'rf_max_depth': 7, 'nn_units1': 112, 'nn_units2': 37, 'nn_alpha': 4.9672624554072564e-05}. Best is trial 10 with value: 0.9031375481288276.\n",
      "[I 2025-06-09 16:04:08,367] Trial 19 finished with value: 0.8451470187676315 and parameters: {'rf_n_estimators': 195, 'rf_max_depth': 11, 'nn_units1': 78, 'nn_units2': 25, 'nn_alpha': 0.00013941323718227167}. Best is trial 10 with value: 0.9031375481288276.\n",
      "[I 2025-06-09 16:04:19,636] Trial 20 finished with value: 0.8787580247042579 and parameters: {'rf_n_estimators': 246, 'rf_max_depth': 14, 'nn_units1': 149, 'nn_units2': 89, 'nn_alpha': 0.0005231779961784009}. Best is trial 10 with value: 0.9031375481288276.\n",
      "[I 2025-06-09 16:04:28,500] Trial 21 finished with value: 0.863270749587753 and parameters: {'rf_n_estimators': 284, 'rf_max_depth': 11, 'nn_units1': 109, 'nn_units2': 32, 'nn_alpha': 1.4011261252470006e-05}. Best is trial 10 with value: 0.9031375481288276.\n",
      "[I 2025-06-09 16:04:37,439] Trial 22 finished with value: 0.8783601696822583 and parameters: {'rf_n_estimators': 284, 'rf_max_depth': 12, 'nn_units1': 87, 'nn_units2': 47, 'nn_alpha': 1.0097954310561069e-05}. Best is trial 10 with value: 0.9031375481288276.\n",
      "[I 2025-06-09 16:04:45,335] Trial 23 finished with value: 0.8417045103679419 and parameters: {'rf_n_estimators': 277, 'rf_max_depth': 11, 'nn_units1': 104, 'nn_units2': 32, 'nn_alpha': 1.6851893077073653e-05}. Best is trial 10 with value: 0.9031375481288276.\n",
      "[I 2025-06-09 16:04:54,509] Trial 24 finished with value: 0.8800759767345042 and parameters: {'rf_n_estimators': 300, 'rf_max_depth': 13, 'nn_units1': 73, 'nn_units2': 75, 'nn_alpha': 2.742288310354306e-05}. Best is trial 10 with value: 0.9031375481288276.\n",
      "[I 2025-06-09 16:05:03,844] Trial 25 finished with value: 0.8617679792491028 and parameters: {'rf_n_estimators': 255, 'rf_max_depth': 9, 'nn_units1': 120, 'nn_units2': 46, 'nn_alpha': 1.4566270530498352e-05}. Best is trial 10 with value: 0.9031375481288276.\n",
      "[I 2025-06-09 16:05:12,088] Trial 26 finished with value: 0.8639981566667431 and parameters: {'rf_n_estimators': 215, 'rf_max_depth': 10, 'nn_units1': 119, 'nn_units2': 33, 'nn_alpha': 5.986368841592828e-05}. Best is trial 10 with value: 0.9031375481288276.\n",
      "[I 2025-06-09 16:05:20,303] Trial 27 finished with value: 0.8431220567170843 and parameters: {'rf_n_estimators': 275, 'rf_max_depth': 14, 'nn_units1': 90, 'nn_units2': 64, 'nn_alpha': 1.4821008521655924e-05}. Best is trial 10 with value: 0.9031375481288276.\n",
      "[I 2025-06-09 16:05:29,579] Trial 28 finished with value: 0.8676064196527761 and parameters: {'rf_n_estimators': 288, 'rf_max_depth': 5, 'nn_units1': 134, 'nn_units2': 25, 'nn_alpha': 3.333913743218505e-05}. Best is trial 10 with value: 0.9031375481288276.\n",
      "[I 2025-06-09 16:05:39,368] Trial 29 finished with value: 0.8282191293671278 and parameters: {'rf_n_estimators': 164, 'rf_max_depth': 14, 'nn_units1': 159, 'nn_units2': 56, 'nn_alpha': 2.0792802311763545e-05}. Best is trial 10 with value: 0.9031375481288276.\n",
      "[I 2025-06-09 16:05:45,263] Trial 30 finished with value: 0.840405646972967 and parameters: {'rf_n_estimators': 246, 'rf_max_depth': 9, 'nn_units1': 140, 'nn_units2': 70, 'nn_alpha': 1.9906076702405317e-05}. Best is trial 10 with value: 0.9031375481288276.\n",
      "[I 2025-06-09 16:05:51,030] Trial 31 finished with value: 0.8962391292960964 and parameters: {'rf_n_estimators': 297, 'rf_max_depth': 12, 'nn_units1': 101, 'nn_units2': 29, 'nn_alpha': 1.0578748411446197e-05}. Best is trial 10 with value: 0.9031375481288276.\n",
      "[I 2025-06-09 16:05:57,224] Trial 32 finished with value: 0.8789361627849315 and parameters: {'rf_n_estimators': 290, 'rf_max_depth': 12, 'nn_units1': 101, 'nn_units2': 30, 'nn_alpha': 1.2063047582892954e-05}. Best is trial 10 with value: 0.9031375481288276.\n",
      "[I 2025-06-09 16:06:05,399] Trial 33 finished with value: 0.8349609849213763 and parameters: {'rf_n_estimators': 265, 'rf_max_depth': 11, 'nn_units1': 89, 'nn_units2': 36, 'nn_alpha': 1.884094197268003e-05}. Best is trial 10 with value: 0.9031375481288276.\n",
      "[I 2025-06-09 16:06:14,762] Trial 34 finished with value: 0.8428832411803528 and parameters: {'rf_n_estimators': 269, 'rf_max_depth': 13, 'nn_units1': 118, 'nn_units2': 42, 'nn_alpha': 1.0176608322623119e-05}. Best is trial 10 with value: 0.9031375481288276.\n",
      "[I 2025-06-09 16:06:23,158] Trial 35 finished with value: 0.8630422505870037 and parameters: {'rf_n_estimators': 291, 'rf_max_depth': 15, 'nn_units1': 69, 'nn_units2': 42, 'nn_alpha': 2.7660421729214138e-05}. Best is trial 10 with value: 0.9031375481288276.\n",
      "[I 2025-06-09 16:06:30,207] Trial 36 finished with value: 0.8667216340655832 and parameters: {'rf_n_estimators': 251, 'rf_max_depth': 12, 'nn_units1': 83, 'nn_units2': 51, 'nn_alpha': 1.305755529247273e-05}. Best is trial 10 with value: 0.9031375481288276.\n",
      "[I 2025-06-09 16:06:35,454] Trial 37 finished with value: 0.8682215807424829 and parameters: {'rf_n_estimators': 234, 'rf_max_depth': 7, 'nn_units1': 97, 'nn_units2': 28, 'nn_alpha': 2.483002048693721e-05}. Best is trial 10 with value: 0.9031375481288276.\n",
      "[I 2025-06-09 16:06:40,402] Trial 38 finished with value: 0.8823718788393002 and parameters: {'rf_n_estimators': 158, 'rf_max_depth': 10, 'nn_units1': 105, 'nn_units2': 34, 'nn_alpha': 0.00011655108689146477}. Best is trial 10 with value: 0.9031375481288276.\n",
      "[I 2025-06-09 16:06:48,025] Trial 39 finished with value: 0.8541687709518432 and parameters: {'rf_n_estimators': 100, 'rf_max_depth': 11, 'nn_units1': 126, 'nn_units2': 73, 'nn_alpha': 0.0003617392956285575}. Best is trial 10 with value: 0.9031375481288276.\n",
      "[I 2025-06-09 16:06:55,127] Trial 40 finished with value: 0.8744081229962183 and parameters: {'rf_n_estimators': 209, 'rf_max_depth': 5, 'nn_units1': 167, 'nn_units2': 67, 'nn_alpha': 1.7143521398011583e-05}. Best is trial 10 with value: 0.9031375481288276.\n",
      "[I 2025-06-09 16:07:02,628] Trial 41 finished with value: 0.8862450610496101 and parameters: {'rf_n_estimators': 298, 'rf_max_depth': 12, 'nn_units1': 98, 'nn_units2': 28, 'nn_alpha': 1.2836405449342938e-05}. Best is trial 10 with value: 0.9031375481288276.\n",
      "[I 2025-06-09 16:07:11,976] Trial 42 finished with value: 0.884846908399116 and parameters: {'rf_n_estimators': 291, 'rf_max_depth': 12, 'nn_units1': 94, 'nn_units2': 25, 'nn_alpha': 1.270522612947946e-05}. Best is trial 10 with value: 0.9031375481288276.\n",
      "[I 2025-06-09 16:07:20,885] Trial 43 finished with value: 0.8655059039205835 and parameters: {'rf_n_estimators': 273, 'rf_max_depth': 13, 'nn_units1': 111, 'nn_units2': 29, 'nn_alpha': 1.2961566065254952e-05}. Best is trial 10 with value: 0.9031375481288276.\n",
      "[I 2025-06-09 16:07:31,681] Trial 44 finished with value: 0.8523807482737029 and parameters: {'rf_n_estimators': 297, 'rf_max_depth': 11, 'nn_units1': 120, 'nn_units2': 38, 'nn_alpha': 2.098011338703736e-05}. Best is trial 10 with value: 0.9031375481288276.\n",
      "[I 2025-06-09 16:07:40,395] Trial 45 finished with value: 0.8411355351516391 and parameters: {'rf_n_estimators': 282, 'rf_max_depth': 14, 'nn_units1': 101, 'nn_units2': 60, 'nn_alpha': 1.0173221349132161e-05}. Best is trial 10 with value: 0.9031375481288276.\n",
      "[I 2025-06-09 16:07:46,791] Trial 46 finished with value: 0.9076459770812584 and parameters: {'rf_n_estimators': 262, 'rf_max_depth': 12, 'nn_units1': 59, 'nn_units2': 29, 'nn_alpha': 1.6023703509843143e-05}. Best is trial 46 with value: 0.9076459770812584.\n",
      "[I 2025-06-09 16:07:52,186] Trial 47 finished with value: 0.8733704464501042 and parameters: {'rf_n_estimators': 235, 'rf_max_depth': 6, 'nn_units1': 54, 'nn_units2': 35, 'nn_alpha': 3.518232139693851e-05}. Best is trial 46 with value: 0.9076459770812584.\n",
      "[I 2025-06-09 16:07:57,448] Trial 48 finished with value: 0.8787178579414199 and parameters: {'rf_n_estimators': 260, 'rf_max_depth': 7, 'nn_units1': 63, 'nn_units2': 81, 'nn_alpha': 0.0009921267796317273}. Best is trial 46 with value: 0.9076459770812584.\n",
      "[I 2025-06-09 16:08:04,769] Trial 49 finished with value: 0.8698994421432795 and parameters: {'rf_n_estimators': 269, 'rf_max_depth': 10, 'nn_units1': 50, 'nn_units2': 40, 'nn_alpha': 1.699900096532071e-05}. Best is trial 46 with value: 0.9076459770812584.\n"
     ]
    }
   ],
   "source": [
    "# Create Optuna study and optimize\n",
    "sampler = TPESampler(seed=42)\n",
    "study = optuna.create_study(direction='maximize', sampler=sampler)\n",
    "study.optimize(objective, n_trials=50)"
   ]
  },
  {
   "cell_type": "code",
   "execution_count": 8,
   "id": "0e47dc73",
   "metadata": {},
   "outputs": [
    {
     "name": "stdout",
     "output_type": "stream",
     "text": [
      "Best trial:\n",
      "  R2 Score: 0.9076\n",
      "  Params:\n",
      "    rf_n_estimators: 262\n",
      "    rf_max_depth: 12\n",
      "    nn_units1: 59\n",
      "    nn_units2: 29\n",
      "    nn_alpha: 1.6023703509843143e-05\n"
     ]
    }
   ],
   "source": [
    "# Output best trial results\n",
    "print(\"Best trial:\")\n",
    "trial = study.best_trial\n",
    "print(f\"  R2 Score: {trial.value:.4f}\")\n",
    "print(\"  Params:\")\n",
    "for key, value in trial.params.items():\n",
    "    print(f\"    {key}: {value}\")"
   ]
  },
  {
   "cell_type": "code",
   "execution_count": 9,
   "id": "d51b4c22",
   "metadata": {},
   "outputs": [],
   "source": [
    "# Train final model with best hyperparameters\n",
    "best_rf_n_estimators = trial.params['rf_n_estimators']\n",
    "best_rf_max_depth = trial.params['rf_max_depth']\n",
    "best_nn_units1 = trial.params['nn_units1']\n",
    "best_nn_units2 = trial.params['nn_units2']\n",
    "best_nn_alpha = trial.params['nn_alpha']\n",
    "\n",
    "rf_model = RandomForestRegressor(\n",
    "    n_estimators=best_rf_n_estimators,\n",
    "    max_depth=best_rf_max_depth,\n",
    "    random_state=42,\n",
    "    n_jobs=-1\n",
    ")\n",
    "\n",
    "nn_model = MLPRegressor(\n",
    "    hidden_layer_sizes=(best_nn_units1, best_nn_units2),\n",
    "    activation='relu',\n",
    "    solver='adam',\n",
    "    random_state=42,\n",
    "    max_iter=500,\n",
    "    alpha=best_nn_alpha,\n",
    "    early_stopping=True\n",
    ")\n",
    "\n",
    "meta_model = RandomForestRegressor(random_state=42, n_jobs=-1)\n",
    "\n",
    "stacking_regressor = StackingRegressor(\n",
    "    estimators=[\n",
    "        ('rf', rf_model),\n",
    "        ('nn', nn_model),\n",
    "    ],\n",
    "    final_estimator=meta_model,\n",
    "    cv=5,\n",
    "    passthrough=False\n",
    ")\n"
   ]
  },
  {
   "cell_type": "code",
   "execution_count": 10,
   "id": "81e848ce",
   "metadata": {},
   "outputs": [
    {
     "name": "stdout",
     "output_type": "stream",
     "text": [
      "Final R2 Score: 0.9076\n",
      "Final MSE: 0.3784\n"
     ]
    }
   ],
   "source": [
    "# Fit final model\n",
    "stacking_regressor.fit(X_train, y_train)\n",
    "\n",
    "# Final evaluation on test set\n",
    "y_pred = stacking_regressor.predict(X_test)\n",
    "print(f\"Final R2 Score: {r2_score(y_test, y_pred):.4f}\")\n",
    "print(f\"Final MSE: {mean_squared_error(y_test, y_pred):.4f}\")"
   ]
  },
  {
   "cell_type": "code",
   "execution_count": 11,
   "id": "2c9429fb",
   "metadata": {},
   "outputs": [
    {
     "data": {
      "text/plain": [
       "['preprocessor.pkl']"
      ]
     },
     "execution_count": 11,
     "metadata": {},
     "output_type": "execute_result"
    }
   ],
   "source": [
    "# After training in your notebook\n",
    "import joblib\n",
    "joblib.dump(stacking_regressor, 'stacking_regressor.pkl')\n",
    "joblib.dump(preprocessor, 'preprocessor.pkl')\n"
   ]
  },
  {
   "cell_type": "code",
   "execution_count": 12,
   "id": "bf820d98",
   "metadata": {},
   "outputs": [
    {
     "name": "stdout",
     "output_type": "stream",
     "text": [
      "['Gender', 'Age', 'Occupation', 'Sleep Duration', 'Physical Activity Level', 'Stress Level', 'BMI Category', 'Blood Pressure', 'Heart Rate', 'Daily Steps']\n",
      "Gender                      object\n",
      "Age                          int64\n",
      "Occupation                  object\n",
      "Sleep Duration             float64\n",
      "Physical Activity Level      int64\n",
      "Stress Level               float64\n",
      "BMI Category                object\n",
      "Blood Pressure              object\n",
      "Heart Rate                   int64\n",
      "Daily Steps                  int64\n",
      "dtype: object\n"
     ]
    }
   ],
   "source": [
    "print(X.columns.tolist())  # feature column names\n",
    "print(X.dtypes)            # feature data types\n"
   ]
  }
 ],
 "metadata": {
  "kernelspec": {
   "display_name": "Python 3",
   "language": "python",
   "name": "python3"
  },
  "language_info": {
   "codemirror_mode": {
    "name": "ipython",
    "version": 3
   },
   "file_extension": ".py",
   "mimetype": "text/x-python",
   "name": "python",
   "nbconvert_exporter": "python",
   "pygments_lexer": "ipython3",
   "version": "3.12.10"
  }
 },
 "nbformat": 4,
 "nbformat_minor": 5
}
